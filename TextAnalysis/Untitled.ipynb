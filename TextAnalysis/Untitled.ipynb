{
 "cells": [
  {
   "cell_type": "code",
   "execution_count": 58,
   "id": "06b2b5a3",
   "metadata": {},
   "outputs": [],
   "source": [
    "import pandas as pd\n",
    "import joblib\n",
    "from sklearn.feature_extraction.text import CountVectorizer\n",
    "from nltk.tokenize import RegexpTokenizer\n",
    "from sklearn.model_selection import train_test_split\n",
    "from sklearn.naive_bayes import MultinomialNB\n",
    "from sklearn import metrics\n",
    "data = pd.read_csv(\"./huge_ass_set.csv\", delimiter=',')"
   ]
  },
  {
   "cell_type": "code",
   "execution_count": 59,
   "id": "5ccb7238",
   "metadata": {},
   "outputs": [
    {
     "name": "stdout",
     "output_type": "stream",
     "text": [
      "<class 'pandas.core.frame.DataFrame'>\n",
      "RangeIndex: 92474 entries, 0 to 92473\n",
      "Data columns (total 2 columns):\n",
      " #   Column     Non-Null Count  Dtype \n",
      "---  ------     --------------  ----- \n",
      " 0   sentiment  92474 non-null  int64 \n",
      " 1   content    92474 non-null  object\n",
      "dtypes: int64(1), object(1)\n",
      "memory usage: 1.4+ MB\n"
     ]
    }
   ],
   "source": [
    "data.info()"
   ]
  },
  {
   "cell_type": "code",
   "execution_count": 60,
   "id": "0d8b2a0b",
   "metadata": {
    "scrolled": true
   },
   "outputs": [
    {
     "data": {
      "text/plain": [
       "0    85572\n",
       "4     2380\n",
       "6     1823\n",
       "5     1150\n",
       "1     1022\n",
       "2      353\n",
       "3      174\n",
       "Name: sentiment, dtype: int64"
      ]
     },
     "execution_count": 60,
     "metadata": {},
     "output_type": "execute_result"
    }
   ],
   "source": [
    "data.sentiment.value_counts()"
   ]
  },
  {
   "cell_type": "code",
   "execution_count": 61,
   "id": "adb0dbd3",
   "metadata": {},
   "outputs": [
    {
     "name": "stdout",
     "output_type": "stream",
     "text": [
      "['Hello', 'Jacob', 'My', 'Name', 'is', 'Ryane']\n"
     ]
    }
   ],
   "source": [
    "token = RegexpTokenizer(r'[a-zA-Z0-9]+')\n",
    "print(token.tokenize(\"Hello Jacob My Name is Ryane\"))\n",
    "vectorizer = CountVectorizer(ngram_range = (1, 3), tokenizer = token.tokenize)\n",
    "text_counts = vectorizer.fit_transform(data['content'])\n"
   ]
  },
  {
   "cell_type": "code",
   "execution_count": 62,
   "id": "a8ad5515",
   "metadata": {},
   "outputs": [],
   "source": [
    "X_train, X_test, Y_train, Y_test = train_test_split(text_counts, data['sentiment'], test_size = .05)"
   ]
  },
  {
   "cell_type": "code",
   "execution_count": 63,
   "id": "4528de49",
   "metadata": {},
   "outputs": [
    {
     "name": "stdout",
     "output_type": "stream",
     "text": [
      "  (0, 254244)\t1\n",
      "  (0, 523857)\t1\n",
      "  (0, 635427)\t1\n",
      "  (0, 651615)\t1\n",
      "  (0, 262536)\t1\n",
      "  (0, 652141)\t1\n",
      "  (0, 162233)\t1\n",
      "  (0, 648874)\t1\n",
      "  (0, 637775)\t1\n",
      "  (0, 262718)\t1\n",
      "  (0, 652274)\t1\n",
      "  (0, 524976)\t1\n",
      "  (0, 648995)\t1\n",
      "  (0, 648996)\t1\n",
      "  (0, 637778)\t1\n",
      "6\n"
     ]
    },
    {
     "data": {
      "text/plain": [
       "MultinomialNB()"
      ]
     },
     "execution_count": 63,
     "metadata": {},
     "output_type": "execute_result"
    }
   ],
   "source": [
    "print(X_train[0])\n",
    "print(Y_train[0])\n",
    "model = MultinomialNB()\n",
    "model.fit(X_train, Y_train)"
   ]
  },
  {
   "cell_type": "code",
   "execution_count": 64,
   "id": "2e8baaa2",
   "metadata": {},
   "outputs": [],
   "source": [
    "predicted = model.predict(X_test)\n",
    "accuracy = metrics.accuracy_score(predicted, Y_test)"
   ]
  },
  {
   "cell_type": "code",
   "execution_count": 65,
   "id": "743ffb9c",
   "metadata": {},
   "outputs": [
    {
     "name": "stdout",
     "output_type": "stream",
     "text": [
      "92.34%\n"
     ]
    }
   ],
   "source": [
    "print(str('{:04.2f}'.format(accuracy*100))+'%')"
   ]
  },
  {
   "cell_type": "code",
   "execution_count": 66,
   "id": "4c43bbcb",
   "metadata": {},
   "outputs": [
    {
     "data": {
      "text/plain": [
       "['C:/Users/Ryan/Desktop/vectorizer.joblib.pkl']"
      ]
     },
     "execution_count": 66,
     "metadata": {},
     "output_type": "execute_result"
    }
   ],
   "source": [
    "joblib.dump(model, 'C:/Users/Ryan/Desktop/classifier.joblib.pkl', compress = 9)\n",
    "joblib.dump(vectorizer, 'C:/Users/Ryan/Desktop/vectorizer.joblib.pkl', compress = 9)"
   ]
  },
  {
   "cell_type": "code",
   "execution_count": 67,
   "id": "10d25c5a",
   "metadata": {},
   "outputs": [],
   "source": [
    "example = [\"Hurry\", \"up\", \"Jacob\"]\n",
    "\n",
    "#token = RegexpTokenizer(r'[a-zA-Z0-9]+')\n",
    "#vectorizer = CountVectorizer(ngram_range = (1, 2), tokenizer = token.tokenize)\n",
    "\n",
    "matrix = vectorizer.transform(example)\n",
    "predictions = model.predict(matrix)"
   ]
  }
 ],
 "metadata": {
  "kernelspec": {
   "display_name": "Python [conda env:tonetendency] *",
   "language": "python",
   "name": "conda-env-tonetendency-py"
  },
  "language_info": {
   "codemirror_mode": {
    "name": "ipython",
    "version": 3
   },
   "file_extension": ".py",
   "mimetype": "text/x-python",
   "name": "python",
   "nbconvert_exporter": "python",
   "pygments_lexer": "ipython3",
   "version": "3.8.8"
  }
 },
 "nbformat": 4,
 "nbformat_minor": 5
}
