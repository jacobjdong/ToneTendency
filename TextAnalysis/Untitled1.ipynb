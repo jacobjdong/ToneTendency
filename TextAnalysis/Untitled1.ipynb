{
 "cells": [
  {
   "cell_type": "code",
   "execution_count": 156,
   "id": "243b0614",
   "metadata": {},
   "outputs": [],
   "source": [
    "import joblib\n",
    "from sklearn.feature_extraction.text import CountVectorizer\n",
    "from nltk.tokenize import RegexpTokenizer"
   ]
  },
  {
   "cell_type": "code",
   "execution_count": 157,
   "id": "3230e998",
   "metadata": {},
   "outputs": [],
   "source": [
    "model = joblib.load('C:/Users/Ryan/Desktop/classifier.joblib.pkl')\n",
    "vectorizer = joblib.load('C:/Users/Ryan/Desktop/vectorizer.joblib.pkl')"
   ]
  },
  {
   "cell_type": "code",
   "execution_count": 158,
   "id": "bda47662",
   "metadata": {},
   "outputs": [
    {
     "name": "stdout",
     "output_type": "stream",
     "text": [
      "  (0, 29464)\t1\n",
      "  (0, 266730)\t1\n",
      "  (0, 266858)\t1\n"
     ]
    }
   ],
   "source": [
    "example = [\"Im afraid\"]\n",
    "\n",
    "matrix = vectorizer.transform(example)\n",
    "print(matrix)\n",
    "predictions = model.predict_proba(matrix)"
   ]
  },
  {
   "cell_type": "code",
   "execution_count": 159,
   "id": "ded9f58b",
   "metadata": {},
   "outputs": [
    {
     "name": "stdout",
     "output_type": "stream",
     "text": [
      "[[9.97567584e-01 6.69564235e-07 6.13247567e-08 5.50689195e-07\n",
      "  8.54737439e-06 2.41923418e-03 3.35242487e-06]]\n"
     ]
    }
   ],
   "source": [
    "print(predictions)"
   ]
  }
 ],
 "metadata": {
  "kernelspec": {
   "display_name": "Python [conda env:tonetendency] *",
   "language": "python",
   "name": "conda-env-tonetendency-py"
  },
  "language_info": {
   "codemirror_mode": {
    "name": "ipython",
    "version": 3
   },
   "file_extension": ".py",
   "mimetype": "text/x-python",
   "name": "python",
   "nbconvert_exporter": "python",
   "pygments_lexer": "ipython3",
   "version": "3.8.8"
  }
 },
 "nbformat": 4,
 "nbformat_minor": 5
}
